{
 "cells": [
  {
   "cell_type": "code",
   "execution_count": 1,
   "metadata": {},
   "outputs": [
    {
     "name": "stdout",
     "output_type": "stream",
     "text": [
      "Results obtained using inbuilt function = 36 \n",
      "Results obtained using manual function = 36 \n",
      "Results obtained using inbuilt function = -34 \n",
      "Results obtained using manual function = -34 \n",
      "Results obtained using inbuilt function = 40320 \n",
      "Results obtained using manual function = 40320 \n",
      "Results obtained using inbuilt function = 2.48015873015873e-05 \n",
      "Results obtained using manual function = 2.48015873015873e-05 \n"
     ]
    }
   ],
   "source": [
    "# 1.1 Write a Python Program to implement your own myreduce() function which works exactly\n",
    "# like Python's built-in function reduce()\n",
    "\n",
    "from functools import reduce\n",
    "\n",
    "def myreduce(func, L):\n",
    "    \n",
    "    \n",
    "    result = L[0]\n",
    "    for i in range(1, len(L)):\n",
    "        \n",
    "        result = func(result, L[i])\n",
    "    \n",
    "    return result\n",
    "    \n",
    "L= [1,2,3,4,5,6,7,8]\n",
    "func = lambda x,y :x+y\n",
    "\n",
    "print(\"Results obtained using inbuilt function = {} \".format(reduce(func, L)))\n",
    "print(\"Results obtained using manual function = {} \".format(myreduce(func, L)))\n",
    "\n",
    "L= [1,2,3,4,5,6,7,8]\n",
    "func = lambda x,y :x-y\n",
    "\n",
    "print(\"Results obtained using inbuilt function = {} \".format(reduce(func, L)))\n",
    "print(\"Results obtained using manual function = {} \".format(myreduce(func, L)))\n",
    "\n",
    "L= [1,2,3,4,5,6,7,8]\n",
    "func = lambda x,y :x*y\n",
    "\n",
    "print(\"Results obtained using inbuilt function = {} \".format(reduce(func, L)))\n",
    "print(\"Results obtained using manual function = {} \".format(myreduce(func, L)))\n",
    "\n",
    "L= [1,2,3,4,5,6,7,8]\n",
    "func = lambda x,y :x/y\n",
    "\n",
    "print(\"Results obtained using inbuilt function = {} \".format(reduce(func, L)))\n",
    "print(\"Results obtained using manual function = {} \".format(myreduce(func, L)))\n"
   ]
  },
  {
   "cell_type": "code",
   "execution_count": 2,
   "metadata": {},
   "outputs": [
    {
     "name": "stdout",
     "output_type": "stream",
     "text": [
      "Results obtained using inbuilt function = [2, 4, 6, 8, 10] \n",
      "Results obtained using manual function = [2, 4, 6, 8, 10] \n",
      "Results obtained using inbuilt function = [] \n",
      "Results obtained using manual function = [] \n"
     ]
    }
   ],
   "source": [
    "# 1.2 Write a Python program to implement your own myfilter() function which works exactly\n",
    "# like Python's built-in function filter()\n",
    "\n",
    "\n",
    "def myfilter(func, L):\n",
    "    \n",
    "    if len(L):\n",
    "        return [L[i] for i in range(len(L)) if func(L[i])]\n",
    "    return []\n",
    "\n",
    "L =[1,2,3,4,5,6,7,8,9,10]\n",
    "func  = lambda x:x%2==0\n",
    "\n",
    "print(\"Results obtained using inbuilt function = {} \".format(list(filter(func, L))))\n",
    "print(\"Results obtained using manual function = {} \".format(myfilter(func, L)))\n",
    "\n",
    "print(\"Results obtained using inbuilt function = {} \".format(list(filter(func, []))))\n",
    "print(\"Results obtained using manual function = {} \".format(myfilter(func, [])))"
   ]
  },
  {
   "cell_type": "code",
   "execution_count": 3,
   "metadata": {},
   "outputs": [
    {
     "name": "stdout",
     "output_type": "stream",
     "text": [
      "['x', 'xx', 'xxx', 'xxxx', 'y', 'yy', 'yyy', 'yyyy', 'z', 'zz', 'zzz', 'zzzz']\n",
      "['x', 'y', 'z', 'xx', 'yy', 'zz', 'xxx', 'yyy', 'zzz', 'xxxx', 'yyyy', 'zzzz']\n",
      "[[2], [3], [4], [3], [4], [5], [4], [5], [6]]\n",
      "[[2, 3, 4, 5], [3, 4, 5, 6], [4, 5, 6, 7], [5, 6, 7, 8]]\n",
      "[(1, 1), (2, 1), (3, 1), (1, 2), (2, 2), (3, 2), (1, 3), (2, 3), (3, 3)]\n"
     ]
    }
   ],
   "source": [
    "#    Write List comprehensions to produce the following Lists\n",
    "# 1.   ['x', 'xx', 'xxx', 'xxxx', 'y', 'yy', 'yyy', 'yyyy', 'z', 'zz', 'zzz', 'zzzz']\n",
    "# 2.   ['x', 'y', 'z', 'xx', 'yy', 'zz', 'xxx', 'yyy', 'zzz', 'xxxx', 'yyyy', 'zzzz']\n",
    "# 3.   [[2], [3], [4], [3], [4], [5], [4], [5], [6]] \n",
    "# 4.   [[2, 3, 4, 5], [3, 4, 5, 6], [4, 5, 6, 7], [5, 6, 7, 8]]      \n",
    "# 5.   [(1, 1), (2, 1), (3, 1), (1, 2), (2, 2), (3, 2), (1, 3), (2, 3), (3, 3)]\n",
    "\n",
    "# 1.   ['x', 'xx', 'xxx', 'xxxx', 'y', 'yy', 'yyy', 'yyyy', 'z', 'zz', 'zzz', 'zzzz']\n",
    "\n",
    "print([ (i)*j for i in ['x','y','z'] for j in range(1,5) ])\n",
    "    \n",
    "# 2.   ['x', 'y', 'z', 'xx', 'yy', 'zz', 'xxx', 'yyy', 'zzz', 'xxxx', 'yyyy', 'zzzz']\n",
    "\n",
    "print([ (i)*j for i in range(1,5) for j in ['x','y','z'] ])\n",
    "    \n",
    "# 3.   [[2], [3], [4], [3], [4], [5], [4], [5], [6]] \n",
    "\n",
    "print([[i+j] for i in range(3) for j in [2,3,4]])\n",
    "\n",
    "# 4.  [[2, 3, 4, 5], [3, 4, 5, 6],  [4, 5, 6, 7], [5, 6, 7, 8]]      \n",
    "\n",
    "print([[j+i for j in [2, 3, 4, 5]] for i in range(0,4)])\n",
    "    \n",
    "# 5.  [(1, 1), (2, 1), (3, 1), (1, 2), (2, 2), (3, 2), (1, 3), (2, 3), (3, 3)]\n",
    "print([(j, i) for i in range(1,4) for j in range(1,4)])"
   ]
  },
  {
   "cell_type": "code",
   "execution_count": null,
   "metadata": {},
   "outputs": [],
   "source": []
  }
 ],
 "metadata": {
  "kernelspec": {
   "display_name": "Python 3",
   "language": "python",
   "name": "python3"
  },
  "language_info": {
   "codemirror_mode": {
    "name": "ipython",
    "version": 3
   },
   "file_extension": ".py",
   "mimetype": "text/x-python",
   "name": "python",
   "nbconvert_exporter": "python",
   "pygments_lexer": "ipython3",
   "version": "3.6.5"
  }
 },
 "nbformat": 4,
 "nbformat_minor": 2
}
