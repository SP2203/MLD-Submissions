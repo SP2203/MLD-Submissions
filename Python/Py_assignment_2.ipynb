{
 "cells": [
  {
   "cell_type": "code",
   "execution_count": 1,
   "metadata": {},
   "outputs": [
    {
     "name": "stdout",
     "output_type": "stream",
     "text": [
      "*\n",
      "* *\n",
      "* * *\n",
      "* * * *\n",
      "* * * * *\n",
      "* * * *\n",
      "* * *\n",
      "* *\n",
      "*\n"
     ]
    }
   ],
   "source": [
    "# Create a pattern using for loops in python\n",
    "#         *  \n",
    "#         * *  \n",
    "#         * * *  \n",
    "#         * * * *  \n",
    "#         * * * * *  \n",
    "#         * * * *  \n",
    "#         * * *  \n",
    "#         * *  \n",
    "#         * \n",
    "\n",
    "pattern = '*'\n",
    "nos = 10\n",
    "mid = int(nos/2)\n",
    "\n",
    "for i in range(nos):\n",
    "    if i < mid:\n",
    "        print(pattern)\n",
    "        pattern = pattern + ' *'\n",
    "    elif i == mid:\n",
    "        pattern = ' '.join(pattern.split()[:-1]) \n",
    "    else:\n",
    "        pattern = ' '.join(pattern.split()[:-1])\n",
    "        print(pattern)\n",
    "    "
   ]
  },
  {
   "cell_type": "code",
   "execution_count": 2,
   "metadata": {},
   "outputs": [
    {
     "name": "stdout",
     "output_type": "stream",
     "text": [
      "Please enter a word = ineuron\n",
      "The reverse word of the input is norueni \n"
     ]
    }
   ],
   "source": [
    "# Write a Python program to reverse a word after accepting the input from the user\n",
    "\n",
    "a = input(\"Please enter a word = \")\n",
    "print(\"The reverse word of the input is {} \".format(a[::-1]))"
   ]
  },
  {
   "cell_type": "code",
   "execution_count": null,
   "metadata": {},
   "outputs": [],
   "source": []
  }
 ],
 "metadata": {
  "kernelspec": {
   "display_name": "Python 3",
   "language": "python",
   "name": "python3"
  },
  "language_info": {
   "codemirror_mode": {
    "name": "ipython",
    "version": 3
   },
   "file_extension": ".py",
   "mimetype": "text/x-python",
   "name": "python",
   "nbconvert_exporter": "python",
   "pygments_lexer": "ipython3",
   "version": "3.7.4"
  }
 },
 "nbformat": 4,
 "nbformat_minor": 2
}
