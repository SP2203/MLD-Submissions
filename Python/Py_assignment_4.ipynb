{
 "cells": [
  {
   "cell_type": "code",
   "execution_count": 1,
   "metadata": {},
   "outputs": [
    {
     "name": "stdout",
     "output_type": "stream",
     "text": [
      "Please enter the sides of triangle\n",
      "Enter the first side 3\n",
      "Enter the second side 4\n",
      "Enter the third side 5\n",
      "The area of triangle is 6.000000\n"
     ]
    }
   ],
   "source": [
    "# 1.1 Write a Python Program(with class concepts) to find the area of the triangle using the below\n",
    "# formula.\n",
    "# area = (s*(s-a)*(s-b)*(s-c)) ** 0.5\n",
    "# Function to take the length of the sides of triangle from user should be defined in the parent\n",
    "# class and function to calculate the area should be defined in subclass\n",
    "\n",
    "class triangle:\n",
    "    def __init__(self):\n",
    "        print('Please enter the sides of triangle')\n",
    "        self.a = int(input(\"Enter the first side \"))\n",
    "        self.b = int(input(\"Enter the second side \"))\n",
    "        self.c = int(input(\"Enter the third side \"))\n",
    "    \n",
    "class area(triangle):\n",
    "    \n",
    "    def __init__(self):\n",
    "        super(area,self).__init__()\n",
    "    \n",
    "    def get_area(self):\n",
    "        s = float((self.a+self.b+self.c)/2)\n",
    "        return float((s*(s-self.a)*(s-self.b)*(s-self.c))**0.5)\n",
    "\n",
    "S = area()\n",
    "print(\"The area of triangle is %f\" %(S.get_area()))"
   ]
  },
  {
   "cell_type": "code",
   "execution_count": 2,
   "metadata": {},
   "outputs": [
    {
     "data": {
      "text/plain": [
       "['Table', 'Showcase', 'Room']"
      ]
     },
     "execution_count": 2,
     "metadata": {},
     "output_type": "execute_result"
    }
   ],
   "source": [
    "# 1.2 Write a function filter_long_words() that takes a list of words and an integer n and returns\n",
    "# the list of words that are longer than n.\n",
    "\n",
    "def filter_long_words(words, n):\n",
    "    return [ word for word in words if len(word) >n ]\n",
    "\n",
    "words = ['Cat', 'Bat', 'Table', 'Showcase', 'Room', 'Toy']\n",
    "n = 3\n",
    "filter_long_words(words, n)"
   ]
  },
  {
   "cell_type": "code",
   "execution_count": 3,
   "metadata": {},
   "outputs": [
    {
     "name": "stdout",
     "output_type": "stream",
     "text": [
      "Initial list of words ['Cat', 'Bat', 'Table', 'Showcase', 'Room', 'Toy']\n",
      "Mapped list of words [3, 3, 5, 8, 4, 3]\n",
      "\n",
      "\n",
      "Initial list of words ['ab', 'cde', 'erty']\n",
      "Mapped list of words [2, 3, 4]\n"
     ]
    }
   ],
   "source": [
    "# 2.1 Write a Python program using function concept that maps list of words into a list of integers\n",
    "# representing the lengths of the corresponding words.\n",
    "# Hint: If a list [ ab,cde,erty] is passed on to the python function output should come as [2,3,4]\n",
    "# Here 2,3 and 4 are the lengths of the words in the list.\n",
    "\n",
    "def word2len(words):\n",
    "    return [len(word) for word in words]\n",
    "\n",
    "words = ['Cat', 'Bat', 'Table', 'Showcase', 'Room', 'Toy']\n",
    "print(\"Initial list of words \" + str(words))\n",
    "\n",
    "print(\"Mapped list of words \" +str(word2len(words)))\n",
    "\n",
    "print('\\n')\n",
    "\n",
    "words = [ 'ab','cde','erty']\n",
    "print(\"Initial list of words \" + str(words))\n",
    "\n",
    "print(\"Mapped list of words \" +str(word2len(words)))"
   ]
  },
  {
   "cell_type": "code",
   "execution_count": 4,
   "metadata": {},
   "outputs": [
    {
     "name": "stdout",
     "output_type": "stream",
     "text": [
      "The character a vowel = True\n",
      "The character b vowel = False\n"
     ]
    }
   ],
   "source": [
    "# 2.2 Write a Python function which takes a character (i.e. a string of length 1) and returns True if\n",
    "# it is a vowel, False otherwise.\n",
    "\n",
    "def check_vowel(a):\n",
    "    return  True if a in ['a','e','i','o','u'] else False\n",
    "\n",
    "print(\"The character {} vowel = {}\".format('a',check_vowel('a')))\n",
    "\n",
    "print(\"The character {} vowel = {}\".format('b',check_vowel('b')))"
   ]
  },
  {
   "cell_type": "code",
   "execution_count": null,
   "metadata": {},
   "outputs": [],
   "source": []
  }
 ],
 "metadata": {
  "kernelspec": {
   "display_name": "Python 3",
   "language": "python",
   "name": "python3"
  },
  "language_info": {
   "codemirror_mode": {
    "name": "ipython",
    "version": 3
   },
   "file_extension": ".py",
   "mimetype": "text/x-python",
   "name": "python",
   "nbconvert_exporter": "python",
   "pygments_lexer": "ipython3",
   "version": "3.7.4"
  }
 },
 "nbformat": 4,
 "nbformat_minor": 2
}
