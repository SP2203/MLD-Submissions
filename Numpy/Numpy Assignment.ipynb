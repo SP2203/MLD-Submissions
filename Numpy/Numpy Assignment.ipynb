{
 "cells": [
  {
   "cell_type": "code",
   "execution_count": 1,
   "metadata": {},
   "outputs": [
    {
     "name": "stdout",
     "output_type": "stream",
     "text": [
      "Using Built in Function Increasing True \n",
      "\n",
      "[[  1   1   1   1]\n",
      " [  1   2   4   8]\n",
      " [  1   3   9  27]\n",
      " [  1   4  16  64]\n",
      " [  1   5  25 125]]\n",
      "\n",
      "Using Manual Function Increasing True \n",
      "\n",
      "[1, 1, 1, 1]\n",
      "[1, 2, 4, 8]\n",
      "[1, 3, 9, 27]\n",
      "[1, 4, 16, 64]\n",
      "[1, 5, 25, 125]\n",
      "****************************************************************************************************\n",
      "\n",
      "Using Built in Function Increasing False \n",
      "\n",
      "[[  1   1   1   1]\n",
      " [  8   4   2   1]\n",
      " [ 27   9   3   1]\n",
      " [ 64  16   4   1]\n",
      " [125  25   5   1]]\n",
      "\n",
      "Using Manual Function Increasing False \n",
      "\n",
      "[1, 1, 1, 1]\n",
      "[8, 4, 2, 1]\n",
      "[27, 9, 3, 1]\n",
      "[64, 16, 4, 1]\n",
      "[125, 25, 5, 1]\n"
     ]
    }
   ],
   "source": [
    "# Write a function so that the columns of the output matrix are powers of the input vector.\n",
    "# The order of the powers is determined by the increasing boolean argument. Specifically, when\n",
    "# increasing is False, the i-th output column is the input vector raised element-wise to the power\n",
    "# of N - i - 1.\n",
    "# HINT: Such a matrix with a geometric progression in each row is named for AlexandreTheophile Vandermonde.\n",
    "\n",
    "import numpy as np\n",
    "\n",
    "\n",
    "def myVander(input_vector, n, increasing=False):\n",
    "    \n",
    "    if increasing:\n",
    "        return [[i**(j) for j in range(n)] for i in input_vector]\n",
    "    return [[i**(n-j-1) for j in range(n)] for i in input_vector]\n",
    "\n",
    "def display_vander(m):\n",
    "    for i in m:\n",
    "        print(i)\n",
    "    \n",
    "input_vector = [1,2,3,4,5]\n",
    "n=4\n",
    "\n",
    "print(\"Using Built in Function Increasing True \\n\")\n",
    "print(np.vander(input_vector, N=n, increasing=True))\n",
    "\n",
    "print(\"\\nUsing Manual Function Increasing True \\n\")\n",
    "m = myVander(input_vector, n, True)\n",
    "display_vander(m)\n",
    "\n",
    "print('*'*100)\n",
    "print(\"\\nUsing Built in Function Increasing False \\n\")\n",
    "print(np.vander(input_vector, N=n, increasing=False))\n",
    "\n",
    "print(\"\\nUsing Manual Function Increasing False \\n\")\n",
    "m = myVander(input_vector, n, False)\n",
    "display_vander(m)"
   ]
  },
  {
   "cell_type": "code",
   "execution_count": 2,
   "metadata": {},
   "outputs": [
    {
     "name": "stdout",
     "output_type": "stream",
     "text": [
      "Moving average for example function\n",
      "[25.0, 35.0, 45.0, 55.0, 65.0, 75.0, 85.0]\n",
      "\n",
      "\n",
      "Moving average for test fucnction\n",
      "[5.0, 4.666666666666667, 5.666666666666667, 6.666666666666667, 9.666666666666666, 28.666666666666668, 49.333333333333336, 72.66666666666667, 84.0, 93.33333333333333, 116.33333333333333]\n"
     ]
    }
   ],
   "source": [
    "# Problem Statement 2: \n",
    " \n",
    "# Given a sequence of n values x1, x2, ..., xn and a window size k>0, the k-th moving average of the given \n",
    "# sequence is defined as follows: \n",
    " \n",
    "# The moving average sequence has n-k+1 elements as shown below. \n",
    " \n",
    "# The moving averages with k=4 of a ten-value sequence (n=10) is shown below \n",
    " \n",
    "# i 1  2  3  4  5  6  7  8  9 10  \n",
    "# ===== == == == == == == == == == ==  \n",
    "# Input 10 20 30 40 50 60 70 80 90 100  \n",
    "# y1      25 = (10+20+30+40)/4  \n",
    "# y2      35 = (20+30+40+50)/4  \n",
    "# y3      45 = (30+40+50+60)/4  \n",
    "# y4      55 = (40+50+60+70)/4 \n",
    "# y5      65 = (50+60+70+80)/4 \n",
    "# y6      75 = (60+70+80+90)/4 \n",
    "# y7      85 = (70+80+90+100)/4 \n",
    " \n",
    " \n",
    "# Thus, the moving average sequence has n-k+1=10-4+1=7 values. \n",
    "# Question: Write a function to find moving average in an array over a window:         \n",
    "# Test it over [3, 5, 7, 2, 8, 10, 11, 65, 72, 81, 99, 100, 150] and window of 3. \n",
    "\n",
    "def my_mov_average(array, window):\n",
    "    \n",
    "    n = array.shape[0]\n",
    "    mov_average = [ sum([(array[i+j]) for j in range(window)])/window for i in range(n-window+1)]\n",
    "    return mov_average\n",
    "\n",
    "A = np.arange(10, 110, 10)\n",
    "window = 4\n",
    "print(\"Moving average for example function\")\n",
    "print(my_mov_average(A, window))\n",
    "print('\\n')\n",
    "\n",
    "B = np.array([3, 5, 7, 2, 8, 10, 11, 65, 72, 81, 99, 100, 150])\n",
    "window = 3\n",
    "print(\"Moving average for test fucnction\")\n",
    "print(my_mov_average(B, window))"
   ]
  },
  {
   "cell_type": "code",
   "execution_count": null,
   "metadata": {},
   "outputs": [],
   "source": []
  }
 ],
 "metadata": {
  "kernelspec": {
   "display_name": "Python 3",
   "language": "python",
   "name": "python3"
  },
  "language_info": {
   "codemirror_mode": {
    "name": "ipython",
    "version": 3
   },
   "file_extension": ".py",
   "mimetype": "text/x-python",
   "name": "python",
   "nbconvert_exporter": "python",
   "pygments_lexer": "ipython3",
   "version": "3.7.4"
  }
 },
 "nbformat": 4,
 "nbformat_minor": 2
}
